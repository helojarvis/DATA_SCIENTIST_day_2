{
 "cells": [
  {
   "cell_type": "code",
   "execution_count": 5,
   "id": "1b9bc9a5-73d8-4547-95d9-d0ba31a13844",
   "metadata": {},
   "outputs": [
    {
     "ename": "SyntaxError",
     "evalue": "invalid syntax (340686762.py, line 1)",
     "output_type": "error",
     "traceback": [
      "\u001b[0;36m  Cell \u001b[0;32mIn[5], line 1\u001b[0;36m\u001b[0m\n\u001b[0;31m    name=ubaid arshad\u001b[0m\n\u001b[0m               ^\u001b[0m\n\u001b[0;31mSyntaxError\u001b[0m\u001b[0;31m:\u001b[0m invalid syntax\n"
     ]
    }
   ],
   "source": [
    "name=ubaid arshad\n",
    "age=27\n",
    "degree=btech\n"
   ]
  },
  {
   "cell_type": "code",
   "execution_count": 8,
   "id": "8d53ed7c-f26b-4606-8a14-67edcb3fc0da",
   "metadata": {},
   "outputs": [
    {
     "name": "stdout",
     "output_type": "stream",
     "text": [
      "my age is 27 and i have completed: my degree in b.tech with the name of ubaid arshad\n"
     ]
    }
   ],
   "source": [
    "name='ubaid arshad'\n",
    "age=27\n",
    "degree=\"b.tech\"\n",
    "\n",
    "print(f\"my age is {age} and i have completed: my degree in {degree} with the name of {name}\")"
   ]
  },
  {
   "cell_type": "code",
   "execution_count": 9,
   "id": "fe97b97b-a2af-4554-869c-562fe12ae993",
   "metadata": {},
   "outputs": [
    {
     "name": "stdout",
     "output_type": "stream",
     "text": [
      "my age is 27 and i have completed my degee in b.tech with the name of ubaid arshad\n"
     ]
    }
   ],
   "source": [
    "name='ubaid arshad'\n",
    "age=27\n",
    "degree=\"b.tech\"\n",
    "print(\"my age is {} and i have completed my degee in {} with the name of {}\".format(age,degree,name))"
   ]
  },
  {
   "cell_type": "code",
   "execution_count": 11,
   "id": "51cd9b17-f9be-4255-8650-c04ab9daff35",
   "metadata": {},
   "outputs": [
    {
     "name": "stdout",
     "output_type": "stream",
     "text": [
      "my age is 27 and i have completed my degee in b.tech with the name of ubaid arshad\n"
     ]
    }
   ],
   "source": [
    "name='ubaid arshad'\n",
    "age=27\n",
    "degree=\"b.tech\"\n",
    "print(\"my age is {fa} and i have completed my degee in {d} with the name of {n}\".format(d=degree,n=name,fa=age))"
   ]
  },
  {
   "cell_type": "code",
   "execution_count": 35,
   "id": "cbe3667d-de77-481b-99a8-22bef11da874",
   "metadata": {},
   "outputs": [
    {
     "name": "stdin",
     "output_type": "stream",
     "text": [
      "enter your age 80\n"
     ]
    },
    {
     "name": "stdout",
     "output_type": "stream",
     "text": [
      "you are old and beautiful\n"
     ]
    }
   ],
   "source": [
    "age=int(input(\"enter your age\"))\n",
    "if age>=18 and age<=45:\n",
    "    print(\"you are young blood\")\n",
    "else:\n",
    "    print(\"you are old and beautiful\")\n",
    "    \n"
   ]
  },
  {
   "cell_type": "code",
   "execution_count": 44,
   "id": "44f906fb-4250-4954-956b-f09a0b0ddaa6",
   "metadata": {},
   "outputs": [
    {
     "name": "stdin",
     "output_type": "stream",
     "text": [
      "enter the amount 700\n"
     ]
    },
    {
     "name": "stdout",
     "output_type": "stream",
     "text": [
      "490.0\n"
     ]
    }
   ],
   "source": [
    "productprice=int(input(\"enter the amount\"))\n",
    "if productprice>1000:\n",
    "    fp=(productprice*20)/100\n",
    "    tp=(productprice-fp)\n",
    "    print(tp)\n",
    "if productprice<=1000:\n",
    "    fp=(productprice*30)/100\n",
    "    tp=(productprice-fp)\n",
    "    print(tp)\n",
    "else:\n",
    "    print(\"Thankyou for you visit\")\n",
    "    "
   ]
  },
  {
   "cell_type": "code",
   "execution_count": 55,
   "id": "d0b9cb47-5617-44dc-8ac3-650e9e1720e7",
   "metadata": {},
   "outputs": [
    {
     "name": "stdin",
     "output_type": "stream",
     "text": [
      "enter the amount 700\n"
     ]
    },
    {
     "name": "stdout",
     "output_type": "stream",
     "text": [
      "the final price is:489.99999999999994\n"
     ]
    }
   ],
   "source": [
    "productprice=int(input(\"enter the amount\"))\n",
    "if productprice>1000:\n",
    "    print(\"the final price is:{}\".format(productprice*0.8))\n",
    "else:\n",
    "    print(\"the final price is:{}\".format(productprice*0.7))\n",
    "    "
   ]
  }
 ],
 "metadata": {
  "kernelspec": {
   "display_name": "Python 3 (ipykernel)",
   "language": "python",
   "name": "python3"
  },
  "language_info": {
   "codemirror_mode": {
    "name": "ipython",
    "version": 3
   },
   "file_extension": ".py",
   "mimetype": "text/x-python",
   "name": "python",
   "nbconvert_exporter": "python",
   "pygments_lexer": "ipython3",
   "version": "3.10.8"
  }
 },
 "nbformat": 4,
 "nbformat_minor": 5
}
