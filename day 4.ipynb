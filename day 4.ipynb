{
 "cells": [
  {
   "cell_type": "code",
   "execution_count": 10,
   "id": "e0870125-5c9b-4afb-a879-2ab210f2f263",
   "metadata": {},
   "outputs": [
    {
     "name": "stdout",
     "output_type": "stream",
     "text": [
      "Hello World\n"
     ]
    },
    {
     "data": {
      "text/plain": [
       "<function str.capitalize()>"
      ]
     },
     "execution_count": 10,
     "metadata": {},
     "output_type": "execute_result"
    }
   ],
   "source": [
    "str1=\"Hello World\"\n",
    "print(str1)\n",
    "str1.capitalize"
   ]
  },
  {
   "cell_type": "code",
   "execution_count": 16,
   "id": "2ebf02c0-09ea-4b3d-a5d5-12adf170bf3b",
   "metadata": {},
   "outputs": [
    {
     "data": {
      "text/plain": [
       "'Science'"
      ]
     },
     "execution_count": 16,
     "metadata": {},
     "output_type": "execute_result"
    }
   ],
   "source": [
    "course_name=\"Data Science Masters\"\n",
    "course_name[5:12]"
   ]
  },
  {
   "cell_type": "code",
   "execution_count": 24,
   "id": "c0814e0f-6c66-4eae-93e0-795c315d78a9",
   "metadata": {},
   "outputs": [
    {
     "data": {
      "text/plain": [
       "'ecneicS'"
      ]
     },
     "execution_count": 24,
     "metadata": {},
     "output_type": "execute_result"
    }
   ],
   "source": [
    "course_name[11:4:-1]"
   ]
  },
  {
   "cell_type": "code",
   "execution_count": 12,
   "id": "d27b2802-4654-4ba9-8889-0101a9d1d066",
   "metadata": {},
   "outputs": [
    {
     "data": {
      "text/plain": [
       "'welcome to pw skills.welcome to dat science masters'"
      ]
     },
     "execution_count": 12,
     "metadata": {},
     "output_type": "execute_result"
    }
   ],
   "source": [
    "str1=\"welcome to pw skills.welcome to dat cience masters\"\n",
    "str1.replace(\"dat\",\"data\")\n",
    "str1.replace(\"cience\",\"science\")"
   ]
  },
  {
   "cell_type": "code",
   "execution_count": 2,
   "id": "37ba3d97-b9fb-44f7-a3e8-afbd31f74313",
   "metadata": {},
   "outputs": [
    {
     "data": {
      "text/plain": [
       "'welcome to pw skills.welcome to dat cience masters'"
      ]
     },
     "execution_count": 2,
     "metadata": {},
     "output_type": "execute_result"
    }
   ],
   "source": [
    "str1\n"
   ]
  },
  {
   "cell_type": "code",
   "execution_count": 13,
   "id": "04e9df80-ac23-427f-8f61-b742ff27b215",
   "metadata": {},
   "outputs": [
    {
     "data": {
      "text/plain": [
       "'welcome to pw skills.welcome to data science masters'"
      ]
     },
     "execution_count": 13,
     "metadata": {},
     "output_type": "execute_result"
    }
   ],
   "source": [
    "str1.replace(\"dat\",\"data\").replace(\"cience\",\"science\")"
   ]
  },
  {
   "cell_type": "code",
   "execution_count": 13,
   "id": "57e50b7c-9b30-4ae7-96f2-add6c5640054",
   "metadata": {},
   "outputs": [
    {
     "name": "stdout",
     "output_type": "stream",
     "text": [
      "s\n",
      "l\n",
      "l\n",
      "i\n",
      "k\n",
      "s\n",
      "w\n",
      "p\n"
     ]
    }
   ],
   "source": [
    "str2=\"pwskills\"\n",
    "for i in range(len(str2)-1,-1,-1):\n",
    "    print(str2[i])    "
   ]
  },
  {
   "cell_type": "code",
   "execution_count": 17,
   "id": "1cc4ec5b-5638-4170-941b-95578618c358",
   "metadata": {},
   "outputs": [
    {
     "name": "stdout",
     "output_type": "stream",
     "text": [
      "['pw', 'skills', 'data', 'science', 'masters']\n"
     ]
    }
   ],
   "source": [
    "lst1=[\"pw\",\"skills\",\"data\",\"science\",\"masters\"]\n",
    "print(lst1)"
   ]
  },
  {
   "cell_type": "code",
   "execution_count": 20,
   "id": "8acc8106-5e9c-448d-9d99-7c77d40da569",
   "metadata": {},
   "outputs": [
    {
     "name": "stdout",
     "output_type": "stream",
     "text": [
      "pw\n",
      "skills\n",
      "data\n",
      "science\n",
      "science\n"
     ]
    }
   ],
   "source": [
    "for i in lst1:\n",
    "    print(i)\n",
    "    if i==\"science\":\n",
    "        print(i)\n",
    "        break\n",
    "        "
   ]
  },
  {
   "cell_type": "code",
   "execution_count": 21,
   "id": "65ce0e92-8df2-4ab2-b421-40436fbc32d6",
   "metadata": {},
   "outputs": [
    {
     "name": "stdout",
     "output_type": "stream",
     "text": [
      "skills\n"
     ]
    }
   ],
   "source": [
    "print(max(lst1))"
   ]
  },
  {
   "cell_type": "code",
   "execution_count": 1,
   "id": "14b4e9d7-5ee1-4917-9335-9a710afd65ec",
   "metadata": {},
   "outputs": [
    {
     "name": "stdout",
     "output_type": "stream",
     "text": [
      "[[1, 2, 3], [4, 5, 6], [7, 8, 9]]\n"
     ]
    }
   ],
   "source": [
    "lst_1=[1,2,3]\n",
    "lst_2=[4,5,6]\n",
    "lst_3=[7,8,9]\n",
    "matrix=[lst_1,lst_2,lst_3]\n",
    "print(matrix)\n"
   ]
  },
  {
   "cell_type": "code",
   "execution_count": 2,
   "id": "17120991-f5fb-418a-9f0c-ab8256875823",
   "metadata": {},
   "outputs": [
    {
     "data": {
      "text/plain": [
       "[1, 2, 3]"
      ]
     },
     "execution_count": 2,
     "metadata": {},
     "output_type": "execute_result"
    }
   ],
   "source": [
    "matrix[0]"
   ]
  },
  {
   "cell_type": "code",
   "execution_count": 3,
   "id": "41a2abbc-f913-4a68-a241-6a543dc3dc61",
   "metadata": {},
   "outputs": [
    {
     "data": {
      "text/plain": [
       "6"
      ]
     },
     "execution_count": 3,
     "metadata": {},
     "output_type": "execute_result"
    }
   ],
   "source": [
    "matrix[1][2]"
   ]
  },
  {
   "cell_type": "code",
   "execution_count": 2,
   "id": "6d5e575e-a75c-4639-b4b8-e4d14fb4503e",
   "metadata": {},
   "outputs": [
    {
     "data": {
      "text/plain": [
       "[0, 1, 2, 3, 4, 5, 6, 7, 8, 9, 10, 11, 12, 13, 14, 15, 16, 17, 18, 19]"
      ]
     },
     "execution_count": 2,
     "metadata": {},
     "output_type": "execute_result"
    }
   ],
   "source": [
    "[i for i in range(20)]"
   ]
  },
  {
   "cell_type": "code",
   "execution_count": 5,
   "id": "3e6cb79a-b8a0-423d-9724-ae5e26162442",
   "metadata": {},
   "outputs": [
    {
     "data": {
      "text/plain": [
       "[0, 2, 4, 6, 8, 10, 12, 14, 16, 18]"
      ]
     },
     "execution_count": 5,
     "metadata": {},
     "output_type": "execute_result"
    }
   ],
   "source": [
    "[i for i in range(0,20,2)]"
   ]
  },
  {
   "cell_type": "code",
   "execution_count": 10,
   "id": "02985acd-f8df-4811-bd07-b109140cfd3a",
   "metadata": {},
   "outputs": [
    {
     "data": {
      "text/plain": [
       "[0,\n",
       " ' ',\n",
       " 2,\n",
       " ' ',\n",
       " 4,\n",
       " ' ',\n",
       " 6,\n",
       " ' ',\n",
       " 8,\n",
       " ' ',\n",
       " 10,\n",
       " ' ',\n",
       " 12,\n",
       " ' ',\n",
       " 14,\n",
       " ' ',\n",
       " 16,\n",
       " ' ',\n",
       " 18,\n",
       " ' ']"
      ]
     },
     "execution_count": 10,
     "metadata": {},
     "output_type": "execute_result"
    }
   ],
   "source": [
    "[i if i%2==0 else\" \" for i in range(0,20)]"
   ]
  },
  {
   "cell_type": "code",
   "execution_count": 10,
   "id": "3b2e238c-fcb8-4e7e-be3c-39da0adf6211",
   "metadata": {},
   "outputs": [
    {
     "name": "stdout",
     "output_type": "stream",
     "text": [
      "20\n",
      "16\n"
     ]
    }
   ],
   "source": [
    "lst=[1,2,3,4,5,6,7,8]\n",
    "sum_even=0\n",
    "sum_odd=0\n",
    "for i in lst:\n",
    "    if i%2==0:\n",
    "        sum_even=sum_even+i\n",
    "    else:\n",
    "        sum_odd=sum_odd+i\n",
    "print(sum_even)\n",
    "print(sum_odd)\n"
   ]
  },
  {
   "cell_type": "code",
   "execution_count": 34,
   "id": "63b35c28-1a53-4632-8a51-cd2d1fc9b1eb",
   "metadata": {},
   "outputs": [
    {
     "name": "stdout",
     "output_type": "stream",
     "text": [
      "385\n"
     ]
    }
   ],
   "source": [
    "sum_1=0\n",
    "lst8=[1,2,3,4,5,6,7,8,9,10]\n",
    "for i in lst8:\n",
    "    sum_1+=(i*i)\n",
    "print(sum_1)"
   ]
  },
  {
   "cell_type": "code",
   "execution_count": 41,
   "id": "7822573c-652b-4303-95ab-10e220c12eff",
   "metadata": {},
   "outputs": [
    {
     "data": {
      "text/plain": [
       "[1, 4, 9, 16, 25, 36, 49, 64, 81, 100]"
      ]
     },
     "execution_count": 41,
     "metadata": {},
     "output_type": "execute_result"
    }
   ],
   "source": [
    "sum_1=0\n",
    "lst8=[1,2,3,4,5,6,7,8,9,10]\n",
    "[i*i for i in lst8]"
   ]
  },
  {
   "cell_type": "code",
   "execution_count": 55,
   "id": "b0e6ab9c-a459-4697-ab0d-d05d1b48486e",
   "metadata": {},
   "outputs": [
    {
     "data": {
      "text/plain": [
       "[1, 2, 3, 4]"
      ]
     },
     "execution_count": 55,
     "metadata": {},
     "output_type": "execute_result"
    }
   ],
   "source": [
    "number=[-2,-1,0,1,2,3,4]\n",
    "[i for i in number if i > 0]"
   ]
  },
  {
   "cell_type": "code",
   "execution_count": 13,
   "id": "db7aabf3-a3f1-4691-9b08-5e705684b62b",
   "metadata": {},
   "outputs": [
    {
     "name": "stdout",
     "output_type": "stream",
     "text": [
      "the temp in celcious is:[0, 10, 20, 30, 40, 50]\n"
     ]
    },
    {
     "data": {
      "text/plain": [
       "[32.0, 50.0, 68.0, 86.0, 104.0, 122.0]"
      ]
     },
     "execution_count": 13,
     "metadata": {},
     "output_type": "execute_result"
    }
   ],
   "source": [
    "\n",
    "c_temp=[0,10,20,30,40,50]\n",
    "print(\"the temp in celcious is:{}\".format(c_temp))\n",
    "[((i*1.8)+32) for i in c_temp ]"
   ]
  },
  {
   "cell_type": "code",
   "execution_count": 29,
   "id": "23164ba7-9b03-4b4a-8602-c12a1713a68e",
   "metadata": {},
   "outputs": [
    {
     "data": {
      "text/plain": [
       "[1, 2, 3, 4, 5, 6, 7, 8, 9]"
      ]
     },
     "execution_count": 29,
     "metadata": {},
     "output_type": "execute_result"
    }
   ],
   "source": [
    "list1=[[1,2,3],[4,5,6],[7,8,9]]\n",
    "[j for i in list1 for j in i]"
   ]
  },
  {
   "cell_type": "code",
   "execution_count": 8,
   "id": "7d7324de-c262-4525-b60d-1fc22ad29a5b",
   "metadata": {},
   "outputs": [
    {
     "name": "stdout",
     "output_type": "stream",
     "text": [
      "the prime no.is: 1\n",
      "the prime no.is: 2\n",
      "the prime no.is: 3\n",
      "the prime no.is: 4\n",
      "the prime no.is: 5\n",
      "the prime no.is: 6\n",
      "the prime no.is: 7\n",
      "the prime no.is: 8\n",
      "the prime no.is: 9\n",
      "the prime no.is: 10\n",
      "the prime no.is: 11\n",
      "the prime no.is: 12\n",
      "the prime no.is: 13\n",
      "the prime no.is: 14\n",
      "the prime no.is: 15\n",
      "the prime no.is: 16\n",
      "the prime no.is: 17\n",
      "the prime no.is: 18\n",
      "the prime no.is: 19\n",
      "the prime no.is: 20\n"
     ]
    }
   ],
   "source": [
    "list2=[1,2,3,4,5,6,7,8,9,10,11,12,13,14,15,16,17,18,19,20]\n",
    "for i in list2:\n",
    "     if i%20==0:\n",
    "        print(i,\"is not prime\")\n",
    "    \n",
    "    \n",
    "    else   "
   ]
  },
  {
   "cell_type": "code",
   "execution_count": 9,
   "id": "7022b051-be4f-45b1-adcf-78ad88eca65c",
   "metadata": {},
   "outputs": [
    {
     "data": {
      "text/plain": [
       "[1, 2, 3, 4, 5, 6, 7, 8, 9, 10, 11, 12, 13, 14, 15, 16, 17, 18, 19, 20]"
      ]
     },
     "execution_count": 9,
     "metadata": {},
     "output_type": "execute_result"
    }
   ],
   "source": [
    "list2"
   ]
  },
  {
   "cell_type": "code",
   "execution_count": 12,
   "id": "da834b41-fdae-4d77-82c8-b4b13a913953",
   "metadata": {},
   "outputs": [
    {
     "data": {
      "text/plain": [
       "[1, 2, 3, 4, 5, 6, 7, 8, 9, 10, 11, 12, 13, 14, 15, 16, 17, 18, 19, 20]"
      ]
     },
     "execution_count": 12,
     "metadata": {},
     "output_type": "execute_result"
    }
   ],
   "source": [
    "[i if ifor i in list2]"
   ]
  }
 ],
 "metadata": {
  "kernelspec": {
   "display_name": "Python 3 (ipykernel)",
   "language": "python",
   "name": "python3"
  },
  "language_info": {
   "codemirror_mode": {
    "name": "ipython",
    "version": 3
   },
   "file_extension": ".py",
   "mimetype": "text/x-python",
   "name": "python",
   "nbconvert_exporter": "python",
   "pygments_lexer": "ipython3",
   "version": "3.10.8"
  }
 },
 "nbformat": 4,
 "nbformat_minor": 5
}
