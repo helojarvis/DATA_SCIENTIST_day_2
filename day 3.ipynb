{
 "cells": [
  {
   "cell_type": "code",
   "execution_count": null,
   "id": "ed1df3ef-be70-4315-b9f5-9a8d0de1092e",
   "metadata": {},
   "outputs": [],
   "source": [
    "##equilateral triangle pattern design"
   ]
  },
  {
   "cell_type": "code",
   "execution_count": 20,
   "id": "aabb56fe-e66e-4d9f-811a-42e9003b1d27",
   "metadata": {},
   "outputs": [
    {
     "name": "stdout",
     "output_type": "stream",
     "text": [
      "              *\n",
      "             ***\n",
      "            *****\n",
      "           *******\n",
      "          *********\n",
      "         ***********\n",
      "        *************\n",
      "       ***************\n",
      "      *****************\n",
      "     *******************\n",
      "    *********************\n",
      "   ***********************\n",
      "  *************************\n",
      " ***************************\n"
     ]
    }
   ],
   "source": [
    "n=14\n",
    "#for length of triangle\n",
    "for i in range(0,n):\n",
    "    #for printing spaces\n",
    "    for k in range(0,n-i):\n",
    "        print(\" \",end=\"\")\n",
    "        #for printing star\n",
    "    for j in range(-1,(2*i-1)+1):\n",
    "        print(\"*\",end=\"\")\n",
    "    print(\"\\r\")"
   ]
  },
  {
   "cell_type": "code",
   "execution_count": null,
   "id": "d0b01b97-5b92-4619-aa02-b680ff5e9959",
   "metadata": {},
   "outputs": [],
   "source": [
    "#for printing inverted triangle"
   ]
  },
  {
   "cell_type": "code",
   "execution_count": 28,
   "id": "c8e2a2f5-d3c5-447f-8f06-1e2d963ccf03",
   "metadata": {},
   "outputs": [
    {
     "name": "stdout",
     "output_type": "stream",
     "text": [
      "***************************\n",
      " *************************\n",
      "  ***********************\n",
      "   *********************\n",
      "    *******************\n",
      "     *****************\n",
      "      ***************\n",
      "       *************\n",
      "        ***********\n",
      "         *********\n",
      "          *******\n",
      "           *****\n",
      "            ***\n",
      "             *\n"
     ]
    }
   ],
   "source": [
    "n=14\n",
    "for i in range(n,0,-1):\n",
    "    for k in range(0,n-i):\n",
    "        print(\" \",end=\"\")\n",
    "    for j in range(1,(2*i-1)+1):\n",
    "        print(\"*\",end=\"\")\n",
    "    print(\"\\r\")    "
   ]
  },
  {
   "cell_type": "code",
   "execution_count": null,
   "id": "fc34b358-f8b5-4a72-b96b-950917ba2f77",
   "metadata": {},
   "outputs": [],
   "source": []
  },
  {
   "cell_type": "code",
   "execution_count": null,
   "id": "60ec91f0-9c5e-4e1b-8188-426243c0145d",
   "metadata": {},
   "outputs": [],
   "source": []
  }
 ],
 "metadata": {
  "kernelspec": {
   "display_name": "Python 3 (ipykernel)",
   "language": "python",
   "name": "python3"
  },
  "language_info": {
   "codemirror_mode": {
    "name": "ipython",
    "version": 3
   },
   "file_extension": ".py",
   "mimetype": "text/x-python",
   "name": "python",
   "nbconvert_exporter": "python",
   "pygments_lexer": "ipython3",
   "version": "3.10.8"
  }
 },
 "nbformat": 4,
 "nbformat_minor": 5
}
